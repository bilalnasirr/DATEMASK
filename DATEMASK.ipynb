{
 "cells": [
  {
   "cell_type": "code",
   "execution_count": null,
   "metadata": {},
   "outputs": [],
   "source": [
    "print(\"A simple program to check if a date is accurate per its provided format.\")\n",
    "datemask=input(\"Please enter date format using '/' as a seperator : \")\n",
    "for dates in range(11):\n",
    "    dates = input(\"Please enter date: \")\n",
    "    if datemask  == \"dd/mm/yyyy\":\n",
    "        dd,mm,yyyy=dates.split('/')\n",
    "        dd=int(dates[0:2])\n",
    "        mm=int(dates[3:5])\n",
    "        yyyy=int(dates[6:10])\n",
    "        if mm == 2 and dd > 28:\n",
    "            print(\"Invalid Date\")\n",
    "        elif mm==1 or mm==3 or mm==5 or mm==7 or mm==8 or mm==10 or mm==12 and dd>31:\n",
    "            print(\"Invalid Date\")\n",
    "        elif mm == 4 or mm==6 or mm==9 or mm==11 and dd>30:\n",
    "            print(\"Invalid Date\")\n",
    "        elif mm > 12:\n",
    "            print(\"Error! The number of months is invalid\")\n",
    "        elif dd > 31:\n",
    "            print(\"Error! The number of days is invalid\")\n",
    "        else:\n",
    "            print(\"The date is valid\")\n",
    "    elif datemask  == \"mm/dd/yyyy\":\n",
    "        dd=int(dates[0:2])\n",
    "        mm=int(dates[3:5])\n",
    "        yyyy=int(dates[6:10])\n",
    "        if mm == 2 and dd > 28:\n",
    "            print(\"Invalid Date\")\n",
    "        elif mm==1 or mm==3 or mm==5 or mm==7 or mm==8 or mm==10 or mm==12 and dd>31:\n",
    "            print(\"Invalid Date\")\n",
    "        elif mm == 4 or mm==6 or mm==9 or mm==11 and dd>30:\n",
    "            print(\"Invalid Date\")\n",
    "        elif mm > 12:\n",
    "            print(\"Error! The number of months is invalid\")\n",
    "        elif dd > 31:\n",
    "            print(\"Error! The number of days is invalid\")\n",
    "        else:\n",
    "            print(\"The date is valid\")\n",
    "    else:\n",
    "        print(\"Error! The datemask is incorrect\")"
   ]
  },
  {
   "cell_type": "code",
   "execution_count": null,
   "metadata": {},
   "outputs": [],
   "source": []
  }
 ],
 "metadata": {
  "kernelspec": {
   "display_name": "Python 3",
   "language": "python",
   "name": "python3"
  }
 },
 "nbformat": 4,
 "nbformat_minor": 2
}
